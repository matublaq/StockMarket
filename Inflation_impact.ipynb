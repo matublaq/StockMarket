{
 "cells": [
  {
   "cell_type": "code",
   "execution_count": 1,
   "metadata": {},
   "outputs": [],
   "source": [
    "import numpy as np\n",
    "import pandas as pd\n",
    "import matplotlib.pyplot as plt\n",
    "import seaborn as sns\n",
    "import sqlite3\n",
    "\n",
    "import requests"
   ]
  },
  {
   "cell_type": "code",
   "execution_count": 7,
   "metadata": {},
   "outputs": [
    {
     "name": "stdout",
     "output_type": "stream",
     "text": [
      "Inflation database. Downloaded successfully. Status code 200\n",
      "Stock market database. Downloaded successfully. Status code 200\n"
     ]
    }
   ],
   "source": [
    "url_inflation_db = \"https://github.com/matublaq/DataBases/raw/main/Inflation.db\"\n",
    "local_path = \"Inflation.db\"\n",
    "\n",
    "response = requests.get(url_inflation_db)\n",
    "\n",
    "if(response.status_code == 200):\n",
    "    with open(local_path, 'wb') as file:\n",
    "        file.write(response.content)\n",
    "    print(f\"Inflation database. Downloaded successfully. Status code {response.status_code}\")\n",
    "else:\n",
    "    print(f\"Inflation database. Download failed. Status code {response.status_code}\")\n",
    "\n",
    "################################################################################################################\n",
    "\n",
    "url_stockmarket_db = \"https://github.com/matublaq/DataBases/raw/main/StockMarket.db\"\n",
    "local_path = \"StockMarket.db\"\n",
    "\n",
    "response = requests.get(url_stockmarket_db)\n",
    "\n",
    "if(response.status_code == 200):\n",
    "    with open(local_path, 'wb') as file:\n",
    "        file.write(response.content)\n",
    "    print(f\"Stock market database. Downloaded successfully. Status code {response.status_code}\")\n",
    "else:\n",
    "    print(f\"Stock market database. Download failed. Status code {response.status_code}\")"
   ]
  },
  {
   "cell_type": "code",
   "execution_count": 10,
   "metadata": {},
   "outputs": [
    {
     "name": "stdout",
     "output_type": "stream",
     "text": [
      "[('Algeria',), ('Angola',), ('Antigua and Barbuda',), ('Argentina',), ('Australia',), ('Austria',), ('Bahamas, The',), ('Bahrain',), ('Bangladesh',), ('Barbados',), ('Belarus',), ('Belgium',), ('Belize',), ('Benin',), ('Bolivia',), ('Botswana',), ('Brazil',), ('Brunei Darussalam',), ('Bulgaria',), ('Burkina Faso',), ('Burundi',), ('Cabo Verde',), ('Cameroon',), ('Canada',), ('Central African Republic',), ('Chad',), ('Chile',), ('China',), ('Colombia',), ('Comoros',), ('Congo, Dem. Rep.',), ('Congo, Rep.',), ('Costa Rica',), (\"Côte d'Ivoire\",), ('Cyprus',), ('Czech Republic',), ('Denmark',), ('Djibouti',), ('Dominica',), ('Dominican Republic',), ('Ecuador',), ('Egypt, Arab Rep.',), ('El Salvador',), ('Equatorial Guinea',), ('Ethiopia',), ('Fiji',), ('Finland',), ('France',), ('Gabon',), ('Gambia, The',), ('Germany',), ('Ghana',), ('Greece',), ('Grenada',), ('Guatemala',), ('Guinea',), ('Guinea-Bissau',), ('Guyana',), ('Haiti',), ('Honduras',), ('Hungary',), ('Iceland',), ('India',), ('Indonesia',), ('Iran, Islamic Rep.',), ('Iraq',), ('Ireland',), ('Israel',), ('Italy',), ('Jamaica',), ('Japan',), ('Jordan',), ('Kenya',), ('Korea, Rep.',), ('Kuwait',), ('Lao PDR',), ('Lebanon',), ('Lesotho',), ('Liberia',), ('Libya',), ('Luxembourg',), ('Madagascar',), ('Malawi',), ('Malaysia',), ('Maldives',), ('Mali',), ('Malta',), ('Mauritania',), ('Mauritius',), ('Mexico',), ('Morocco',), ('Mozambique',), ('Myanmar',), ('Namibia',), ('Nepal',), ('Netherlands',), ('New Zealand',), ('Nicaragua',), ('Niger',), ('Nigeria',), ('Norway',), ('Oman',), ('Pakistan',), ('Panama',), ('Papua New Guinea',), ('Paraguay',), ('Peru',), ('Philippines',), ('Poland',), ('Portugal',), ('Qatar',), ('Romania',), ('Russian Federation',), ('Rwanda',), ('Samoa',), ('São Tomé and Principe',), ('Saudi Arabia',), ('Senegal',), ('Seychelles',), ('Sierra Leone',), ('Singapore',), ('South Africa',), ('Spain',), ('Sri Lanka',), ('St. Kitts and Nevis',), ('St. Lucia',), ('St. Vincent and the Grenadines',), ('Sudan',), ('Suriname',), ('Swaziland',), ('Sweden',), ('Switzerland',), ('Tanzania',), ('Thailand',), ('Togo',), ('Tonga',), ('Trinidad and Tobago',), ('Tunisia',), ('Turkey',), ('Uganda',), ('Ukraine',), ('United Arab Emirates',), ('United Kingdom',), ('United States',), ('Uruguay',), ('Vanuatu',), ('Venezuela, RB',), ('Vietnam',), ('Yemen, Rep.',), ('Zambia',), ('Zimbabwe',), ('Afghanistan',), ('Bhutan',), ('Curacao',), ('Syrian Arab Republic',), ('Hong Kong SAR, China',), ('Kiribati',), ('Solomon Islands',), ('Croatia',), ('Lithuania',), ('Puerto Rico',), ('Slovenia',), ('Cambodia',), ('Macedonia, FYR',), ('Slovak Republic',), ('Albania',), ('Azerbaijan',), ('Estonia',), ('Mongolia',), ('Georgia',), ('Kazakhstan',), ('Kyrgyz Republic',), ('Latvia',), ('Moldova',), ('Uzbekistan',), ('Armenia',), ('Eritrea',), ('Tajikistan',), ('Turkmenistan',), ('New Caledonia',), ('Bosnia and Herzegovina',), ('Aruba',), ('Micronesia, Fed. Sts.',), ('Cayman Islands',), ('West Bank and Gaza',), ('Serbia',), ('Macao SAR, China',), ('Montenegro',), ('Palau',), ('Tuvalu',), ('Montserratit',), ('Kosovo',), ('San Marino',), ('Timor-Leste',), ('Marshall Islands',), ('Nauru',), ('Saint Helena',), ('Turks and Caicos Islands',), ('Liechtenstein',), ('South Sudan',), ('British Virgin Islands',), ('Martinique',), ('Niue',)]\n"
     ]
    }
   ],
   "source": [
    "conn = sqlite3.connect('Inflation.db')\n",
    "cursor = conn.cursor()\n",
    "\n",
    "cursor.execute(\"SELECT name FROM Countries\")\n",
    "companies = cursor.fetchall()\n",
    "\n",
    "conn.close()\n",
    "\n",
    "print(companies)"
   ]
  },
  {
   "cell_type": "code",
   "execution_count": null,
   "metadata": {},
   "outputs": [],
   "source": []
  }
 ],
 "metadata": {
  "kernelspec": {
   "display_name": "base",
   "language": "python",
   "name": "python3"
  },
  "language_info": {
   "codemirror_mode": {
    "name": "ipython",
    "version": 3
   },
   "file_extension": ".py",
   "mimetype": "text/x-python",
   "name": "python",
   "nbconvert_exporter": "python",
   "pygments_lexer": "ipython3",
   "version": "3.11.7"
  }
 },
 "nbformat": 4,
 "nbformat_minor": 2
}
