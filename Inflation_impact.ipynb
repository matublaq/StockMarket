{
 "cells": [
  {
   "cell_type": "code",
   "execution_count": 3,
   "metadata": {},
   "outputs": [],
   "source": [
    "import numpy as np\n",
    "import pandas as pd\n",
    "import matplotlib.pyplot as plt\n",
    "import seaborn as sns\n",
    "import sqlite3\n",
    "\n",
    "import requests"
   ]
  },
  {
   "cell_type": "code",
   "execution_count": 4,
   "metadata": {},
   "outputs": [
    {
     "name": "stdout",
     "output_type": "stream",
     "text": [
      "Inflation database. Downloaded successfully. Status code 200\n",
      "Stock market database. Downloaded successfully. Status code 200\n"
     ]
    }
   ],
   "source": [
    "url_inflation_db = \"https://github.com/matublaq/DataBases/raw/main/Inflation.db\"\n",
    "local_path = \"Inflation.db\"\n",
    "\n",
    "response = requests.get(url_inflation_db)\n",
    "\n",
    "if(response.status_code == 200):\n",
    "    with open(local_path, 'wb') as file:\n",
    "        file.write(response.content)\n",
    "    print(f\"Inflation database. Downloaded successfully. Status code {response.status_code}\")\n",
    "else:\n",
    "    print(f\"Inflation database. Download failed. Status code {response.status_code}\")\n",
    "\n",
    "################################################################################################################\n",
    "\n",
    "url_stockmarket_db = \"https://github.com/matublaq/DataBases/raw/main/StockMarket.db\"\n",
    "local_path = \"StockMarket.db\"\n",
    "\n",
    "response = requests.get(url_stockmarket_db)\n",
    "\n",
    "if(response.status_code == 200):\n",
    "    with open(local_path, 'wb') as file:\n",
    "        file.write(response.content)\n",
    "    print(f\"Stock market database. Downloaded successfully. Status code {response.status_code}\")\n",
    "else:\n",
    "    print(f\"Stock market database. Download failed. Status code {response.status_code}\")"
   ]
  },
  {
   "cell_type": "code",
   "execution_count": 5,
   "metadata": {},
   "outputs": [
    {
     "name": "stdout",
     "output_type": "stream",
     "text": [
      "['Algeria', 'Angola', 'Antigua and Barbuda', 'Argentina', 'Australia', 'Austria', 'Bahamas, The', 'Bahrain', 'Bangladesh', 'Barbados', 'Belarus', 'Belgium', 'Belize', 'Benin', 'Bolivia', 'Botswana', 'Brazil', 'Brunei Darussalam', 'Bulgaria', 'Burkina Faso', 'Burundi', 'Cabo Verde', 'Cameroon', 'Canada', 'Central African Republic', 'Chad', 'Chile', 'China', 'Colombia', 'Comoros', 'Congo, Dem. Rep.', 'Congo, Rep.', 'Costa Rica', \"Côte d'Ivoire\", 'Cyprus', 'Czech Republic', 'Denmark', 'Djibouti', 'Dominica', 'Dominican Republic', 'Ecuador', 'Egypt, Arab Rep.', 'El Salvador', 'Equatorial Guinea', 'Ethiopia', 'Fiji', 'Finland', 'France', 'Gabon', 'Gambia, The', 'Germany', 'Ghana', 'Greece', 'Grenada', 'Guatemala', 'Guinea', 'Guinea-Bissau', 'Guyana', 'Haiti', 'Honduras', 'Hungary', 'Iceland', 'India', 'Indonesia', 'Iran, Islamic Rep.', 'Iraq', 'Ireland', 'Israel', 'Italy', 'Jamaica', 'Japan', 'Jordan', 'Kenya', 'Korea, Rep.', 'Kuwait', 'Lao PDR', 'Lebanon', 'Lesotho', 'Liberia', 'Libya', 'Luxembourg', 'Madagascar', 'Malawi', 'Malaysia', 'Maldives', 'Mali', 'Malta', 'Mauritania', 'Mauritius', 'Mexico', 'Morocco', 'Mozambique', 'Myanmar', 'Namibia', 'Nepal', 'Netherlands', 'New Zealand', 'Nicaragua', 'Niger', 'Nigeria', 'Norway', 'Oman', 'Pakistan', 'Panama', 'Papua New Guinea', 'Paraguay', 'Peru', 'Philippines', 'Poland', 'Portugal', 'Qatar', 'Romania', 'Russian Federation', 'Rwanda', 'Samoa', 'São Tomé and Principe', 'Saudi Arabia', 'Senegal', 'Seychelles', 'Sierra Leone', 'Singapore', 'South Africa', 'Spain', 'Sri Lanka', 'St. Kitts and Nevis', 'St. Lucia', 'St. Vincent and the Grenadines', 'Sudan', 'Suriname', 'Swaziland', 'Sweden', 'Switzerland', 'Tanzania', 'Thailand', 'Togo', 'Tonga', 'Trinidad and Tobago', 'Tunisia', 'Turkey', 'Uganda', 'Ukraine', 'United Arab Emirates', 'United Kingdom', 'United States', 'Uruguay', 'Vanuatu', 'Venezuela, RB', 'Vietnam', 'Yemen, Rep.', 'Zambia', 'Zimbabwe', 'Afghanistan', 'Bhutan', 'Curacao', 'Syrian Arab Republic', 'Hong Kong SAR, China', 'Kiribati', 'Solomon Islands', 'Croatia', 'Lithuania', 'Puerto Rico', 'Slovenia', 'Cambodia', 'Macedonia, FYR', 'Slovak Republic', 'Albania', 'Azerbaijan', 'Estonia', 'Mongolia', 'Georgia', 'Kazakhstan', 'Kyrgyz Republic', 'Latvia', 'Moldova', 'Uzbekistan', 'Armenia', 'Eritrea', 'Tajikistan', 'Turkmenistan', 'New Caledonia', 'Bosnia and Herzegovina', 'Aruba', 'Micronesia, Fed. Sts.', 'Cayman Islands', 'West Bank and Gaza', 'Serbia', 'Macao SAR, China', 'Montenegro', 'Palau', 'Tuvalu', 'Montserratit', 'Kosovo', 'San Marino', 'Timor-Leste', 'Marshall Islands', 'Nauru', 'Saint Helena', 'Turks and Caicos Islands', 'Liechtenstein', 'South Sudan', 'British Virgin Islands', 'Martinique', 'Niue'] \n",
      " ['Apple Inc.', 'Airbnb, Inc.', 'Adobe Inc.', 'Amazon.com, Inc.', 'Berkshire Hathaway Inc. New', 'Alphabet Inc.', 'MercadoLibre, Inc.', 'Meta Platforms, Inc.', 'Microsoft Corporation', 'Pepsico, Inc.', 'Banco Santander, S.A. Sponsored', 'Tesla, Inc.', 'YPF Sociedad Anonima', 'NVIDIA Corporation']\n"
     ]
    }
   ],
   "source": [
    "conn1 = sqlite3.connect('Inflation.db')\n",
    "conn2 = sqlite3.connect('StockMarket.db')\n",
    "cursor1 = conn1.cursor()\n",
    "cursor2 = conn2.cursor()\n",
    "\n",
    "\n",
    "cursor1.execute(\"SELECT name FROM Countries\")\n",
    "countries = cursor1.fetchall()\n",
    "countries = [country[0] for country in countries]\n",
    "\n",
    "cursor2.execute(\"SELECT name FROM Companies\")\n",
    "companies = cursor2.fetchall()\n",
    "companies = [company[0] for company in companies]\n",
    "\n",
    "\n",
    "conn1.close()\n",
    "conn2.close()\n",
    "\n",
    "print(countries, \"\\n\", companies)"
   ]
  },
  {
   "cell_type": "markdown",
   "metadata": {},
   "source": [
    "<p style='font-size: 35px; text-align: center; color: violet;'>Functions</p>"
   ]
  },
  {
   "cell_type": "code",
   "execution_count": 12,
   "metadata": {},
   "outputs": [],
   "source": [
    "def country_inflation(code):\n",
    "    conn = sqlite3.connect('Inflation.db')\n",
    "    cursor = conn.cursor()\n",
    "\n",
    "    cursor.execute(\"SELECT id FROM Countries WHERE code = ?\", (code,))\n",
    "    id_usa = cursor.fetchall()[0]\n",
    "    cursor.execute(\"SELECT year, inflation_rate FROM Inflation WHERE country_id = ?\", id_usa)\n",
    "    inflation = cursor.fetchall()\n",
    "\n",
    "    conn.close()\n",
    "\n",
    "    return inflation"
   ]
  },
  {
   "cell_type": "code",
   "execution_count": 11,
   "metadata": {},
   "outputs": [
    {
     "data": {
      "text/plain": [
       "[(1970, 5.9),\n",
       " (1971, 4.29),\n",
       " (1972, 3.27),\n",
       " (1973, 6.18),\n",
       " (1974, 11.05),\n",
       " (1975, 9.14),\n",
       " (1976, 5.74),\n",
       " (1977, 6.5),\n",
       " (1978, 7.63),\n",
       " (1979, 11.25),\n",
       " (1980, 13.55),\n",
       " (1981, 10.33),\n",
       " (1982, 6.13),\n",
       " (1983, 3.21),\n",
       " (1984, 4.3),\n",
       " (1985, 3.55),\n",
       " (1986, 1.9),\n",
       " (1987, 3.66),\n",
       " (1988, 4.08),\n",
       " (1989, 4.83),\n",
       " (1990, 5.4),\n",
       " (1991, 4.23),\n",
       " (1992, 3.03),\n",
       " (1993, 2.95),\n",
       " (1994, 2.61),\n",
       " (1995, 2.81),\n",
       " (1996, 2.93),\n",
       " (1997, 2.34),\n",
       " (1998, 1.55),\n",
       " (1999, 2.19),\n",
       " (2000, 3.38),\n",
       " (2001, 2.83),\n",
       " (2002, 1.59),\n",
       " (2003, 2.27),\n",
       " (2004, 2.68),\n",
       " (2005, 3.39),\n",
       " (2006, 3.23),\n",
       " (2007, 2.85),\n",
       " (2008, 3.84),\n",
       " (2009, -0.36),\n",
       " (2010, 1.64),\n",
       " (2011, 3.16),\n",
       " (2012, 2.07),\n",
       " (2013, 1.46),\n",
       " (2014, 1.62),\n",
       " (2015, 0.12),\n",
       " (2016, 1.26),\n",
       " (2017, 2.14),\n",
       " (2018, 2.44),\n",
       " (2019, 1.81),\n",
       " (2020, 1.23),\n",
       " (2021, 4.7),\n",
       " (2022, 8.0),\n",
       " (2023, 4.12)]"
      ]
     },
     "execution_count": 11,
     "metadata": {},
     "output_type": "execute_result"
    }
   ],
   "source": [
    "country_inflation('USA')"
   ]
  },
  {
   "cell_type": "code",
   "execution_count": null,
   "metadata": {},
   "outputs": [],
   "source": []
  }
 ],
 "metadata": {
  "kernelspec": {
   "display_name": "base",
   "language": "python",
   "name": "python3"
  },
  "language_info": {
   "codemirror_mode": {
    "name": "ipython",
    "version": 3
   },
   "file_extension": ".py",
   "mimetype": "text/x-python",
   "name": "python",
   "nbconvert_exporter": "python",
   "pygments_lexer": "ipython3",
   "version": "3.12.3"
  }
 },
 "nbformat": 4,
 "nbformat_minor": 2
}
