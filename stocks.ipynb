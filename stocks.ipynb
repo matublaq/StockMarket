{
 "cells": [
  {
   "cell_type": "code",
   "execution_count": 2,
   "metadata": {},
   "outputs": [
    {
     "name": "stdout",
     "output_type": "stream",
     "text": [
      "Inflation database. Downloaded successfully. Status code 200\n",
      "Stock market database. Downloaded successfully. Status code 200\n",
      "['Algeria', 'Angola', 'Antigua and Barbuda', 'Argentina', 'Australia', 'Austria', 'Bahamas, The', 'Bahrain', 'Bangladesh', 'Barbados', 'Belarus', 'Belgium', 'Belize', 'Benin', 'Bolivia', 'Botswana', 'Brazil', 'Brunei Darussalam', 'Bulgaria', 'Burkina Faso', 'Burundi', 'Cabo Verde', 'Cameroon', 'Canada', 'Central African Republic', 'Chad', 'Chile', 'China', 'Colombia', 'Comoros', 'Congo, Dem. Rep.', 'Congo, Rep.', 'Costa Rica', \"Côte d'Ivoire\", 'Cyprus', 'Czech Republic', 'Denmark', 'Djibouti', 'Dominica', 'Dominican Republic', 'Ecuador', 'Egypt, Arab Rep.', 'El Salvador', 'Equatorial Guinea', 'Ethiopia', 'Fiji', 'Finland', 'France', 'Gabon', 'Gambia, The', 'Germany', 'Ghana', 'Greece', 'Grenada', 'Guatemala', 'Guinea', 'Guinea-Bissau', 'Guyana', 'Haiti', 'Honduras', 'Hungary', 'Iceland', 'India', 'Indonesia', 'Iran, Islamic Rep.', 'Iraq', 'Ireland', 'Israel', 'Italy', 'Jamaica', 'Japan', 'Jordan', 'Kenya', 'Korea, Rep.', 'Kuwait', 'Lao PDR', 'Lebanon', 'Lesotho', 'Liberia', 'Libya', 'Luxembourg', 'Madagascar', 'Malawi', 'Malaysia', 'Maldives', 'Mali', 'Malta', 'Mauritania', 'Mauritius', 'Mexico', 'Morocco', 'Mozambique', 'Myanmar', 'Namibia', 'Nepal', 'Netherlands', 'New Zealand', 'Nicaragua', 'Niger', 'Nigeria', 'Norway', 'Oman', 'Pakistan', 'Panama', 'Papua New Guinea', 'Paraguay', 'Peru', 'Philippines', 'Poland', 'Portugal', 'Qatar', 'Romania', 'Russian Federation', 'Rwanda', 'Samoa', 'São Tomé and Principe', 'Saudi Arabia', 'Senegal', 'Seychelles', 'Sierra Leone', 'Singapore', 'South Africa', 'Spain', 'Sri Lanka', 'St. Kitts and Nevis', 'St. Lucia', 'St. Vincent and the Grenadines', 'Sudan', 'Suriname', 'Swaziland', 'Sweden', 'Switzerland', 'Tanzania', 'Thailand', 'Togo', 'Tonga', 'Trinidad and Tobago', 'Tunisia', 'Turkey', 'Uganda', 'Ukraine', 'United Arab Emirates', 'United Kingdom', 'United States', 'Uruguay', 'Vanuatu', 'Venezuela, RB', 'Vietnam', 'Yemen, Rep.', 'Zambia', 'Zimbabwe', 'Afghanistan', 'Bhutan', 'Curacao', 'Syrian Arab Republic', 'Hong Kong SAR, China', 'Kiribati', 'Solomon Islands', 'Croatia', 'Lithuania', 'Puerto Rico', 'Slovenia', 'Cambodia', 'Macedonia, FYR', 'Slovak Republic', 'Albania', 'Azerbaijan', 'Estonia', 'Mongolia', 'Georgia', 'Kazakhstan', 'Kyrgyz Republic', 'Latvia', 'Moldova', 'Uzbekistan', 'Armenia', 'Eritrea', 'Tajikistan', 'Turkmenistan', 'New Caledonia', 'Bosnia and Herzegovina', 'Aruba', 'Micronesia, Fed. Sts.', 'Cayman Islands', 'West Bank and Gaza', 'Serbia', 'Macao SAR, China', 'Montenegro', 'Palau', 'Tuvalu', 'Montserratit', 'Kosovo', 'San Marino', 'Timor-Leste', 'Marshall Islands', 'Nauru', 'Saint Helena', 'Turks and Caicos Islands', 'Liechtenstein', 'South Sudan', 'British Virgin Islands', 'Martinique', 'Niue'] \n",
      " ['Apple Inc.', 'Airbnb, Inc.', 'Adobe Inc.', 'Amazon.com, Inc.', 'Berkshire Hathaway Inc. New', 'Alphabet Inc.', 'MercadoLibre, Inc.', 'Meta Platforms, Inc.', 'Microsoft Corporation', 'NVIDIA Corporation', 'Pepsico, Inc.', 'Banco Santander, S.A. Sponsored', 'Tesla, Inc.', 'YPF Sociedad Anonima', 'Coca-Cola Company (The)', 'Toyota Motor Corporation']\n",
      "(144, 'United States', 'USA')\n"
     ]
    },
    {
     "name": "stderr",
     "output_type": "stream",
     "text": [
      "c:\\Users\\matia\\OneDrive\\Documentos\\GitHub\\StockMarket\\Inflation_impact.py:132: FutureWarning: Setting an item of incompatible dtype is deprecated and will raise an error in a future version of pandas. Value '-40.97' has dtype incompatible with int64, please explicitly cast to a compatible dtype first.\n",
      "  prices.loc[prices['year'] == year, 'GROWTH'] = diff_adj_actual.round(2)\n",
      "c:\\Users\\matia\\OneDrive\\Documentos\\GitHub\\StockMarket\\Inflation_impact.py:135: FutureWarning: Setting an item of incompatible dtype is deprecated and will raise an error in a future version of pandas. Value '0.09' has dtype incompatible with int64, please explicitly cast to a compatible dtype first.\n",
      "  prices.loc[prices['year'] == year, 'real_price_adj'] = real_actual_price.round(3)\n",
      "c:\\Users\\matia\\OneDrive\\Documentos\\GitHub\\StockMarket\\Inflation_impact.py:136: FutureWarning: Setting an item of incompatible dtype is deprecated and will raise an error in a future version of pandas. Value '10.33' has dtype incompatible with int64, please explicitly cast to a compatible dtype first.\n",
      "  prices.loc[prices['year'] == year, 'inflation'] = inflation\n",
      "c:\\Users\\matia\\OneDrive\\Documentos\\GitHub\\StockMarket\\Inflation_impact.py:137: FutureWarning: Setting an item of incompatible dtype is deprecated and will raise an error in a future version of pandas. Value '0.168' has dtype incompatible with int64, please explicitly cast to a compatible dtype first.\n",
      "  prices.loc[prices['year'] == year, 'last_price_adj_inflation'] = last_price_adj_inflation.round(3)\n",
      "c:\\Users\\matia\\OneDrive\\Documentos\\GitHub\\StockMarket\\Inflation_impact.py:132: FutureWarning: Setting an item of incompatible dtype is deprecated and will raise an error in a future version of pandas. Value '116.48' has dtype incompatible with int64, please explicitly cast to a compatible dtype first.\n",
      "  prices.loc[prices['year'] == year, 'GROWTH'] = diff_adj_actual.round(2)\n",
      "c:\\Users\\matia\\OneDrive\\Documentos\\GitHub\\StockMarket\\Inflation_impact.py:135: FutureWarning: Setting an item of incompatible dtype is deprecated and will raise an error in a future version of pandas. Value '0.364' has dtype incompatible with int64, please explicitly cast to a compatible dtype first.\n",
      "  prices.loc[prices['year'] == year, 'real_price_adj'] = real_actual_price.round(3)\n",
      "c:\\Users\\matia\\OneDrive\\Documentos\\GitHub\\StockMarket\\Inflation_impact.py:136: FutureWarning: Setting an item of incompatible dtype is deprecated and will raise an error in a future version of pandas. Value '3.66' has dtype incompatible with int64, please explicitly cast to a compatible dtype first.\n",
      "  prices.loc[prices['year'] == year, 'inflation'] = inflation\n",
      "c:\\Users\\matia\\OneDrive\\Documentos\\GitHub\\StockMarket\\Inflation_impact.py:137: FutureWarning: Setting an item of incompatible dtype is deprecated and will raise an error in a future version of pandas. Value '0.174' has dtype incompatible with int64, please explicitly cast to a compatible dtype first.\n",
      "  prices.loc[prices['year'] == year, 'last_price_adj_inflation'] = last_price_adj_inflation.round(3)\n"
     ]
    }
   ],
   "source": [
    "import numpy as np\n",
    "import pandas as pd\n",
    "import matplotlib.pyplot as plt\n",
    "import streamlit as st\n",
    "import requests\n",
    "\n",
    "\n",
    "from Inflation_impact import *"
   ]
  },
  {
   "cell_type": "code",
   "execution_count": 4,
   "metadata": {},
   "outputs": [
    {
     "data": {
      "text/plain": [
       "{'Information': 'Thank you for using Alpha Vantage! This is a premium endpoint. You may subscribe to any of the premium plans at https://www.alphavantage.co/premium/ to instantly unlock all premium endpoints'}"
      ]
     },
     "execution_count": 4,
     "metadata": {},
     "output_type": "execute_result"
    }
   ],
   "source": [
    "'''\n",
    "api_key = \"NEOCHK2773K0PUAR\"\n",
    "\n",
    "ticker = input(\"Write the ticker: \")\n",
    "\n",
    "url = f\"https://www.alphavantage.co/query?function=TIME_SERIES_DAILY_ADJUSTED&symbol={ticker}&apikey={api_key}\"\n",
    "\n",
    "response = requests.get(url)\n",
    "company_info = response.json()\n",
    "company_info\n",
    "'''"
   ]
  },
  {
   "cell_type": "code",
   "execution_count": null,
   "metadata": {},
   "outputs": [],
   "source": []
  }
 ],
 "metadata": {
  "kernelspec": {
   "display_name": "base",
   "language": "python",
   "name": "python3"
  },
  "language_info": {
   "codemirror_mode": {
    "name": "ipython",
    "version": 3
   },
   "file_extension": ".py",
   "mimetype": "text/x-python",
   "name": "python",
   "nbconvert_exporter": "python",
   "pygments_lexer": "ipython3",
   "version": "3.12.3"
  }
 },
 "nbformat": 4,
 "nbformat_minor": 2
}
